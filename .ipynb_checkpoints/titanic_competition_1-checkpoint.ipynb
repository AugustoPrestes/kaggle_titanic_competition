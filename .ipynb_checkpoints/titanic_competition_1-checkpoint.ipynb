{
 "cells": [
  {
   "cell_type": "markdown",
   "metadata": {
    "id": "cIQDrpsgaDcQ"
   },
   "source": [
    "# Competição kaggle Titanic\n",
    "O notebook foi desenvolvido com base na playlist do canal do YouTUbe [Canal Mario Filho](https://www.youtube.com/watch?v=K86voC1gRIk&list=PLwnip85KhroW8Q1JSNbgl06iNPeC0SDkx&index=3)."
   ]
  },
  {
   "cell_type": "markdown",
   "metadata": {
    "id": "rv7pMdDq1w2K"
   },
   "source": [
    "# Imports"
   ]
  },
  {
   "cell_type": "code",
   "execution_count": 35,
   "metadata": {
    "ExecuteTime": {
     "end_time": "2023-08-07T00:37:48.686986Z",
     "start_time": "2023-08-07T00:37:48.675986Z"
    },
    "id": "YaOkEIM42nwI"
   },
   "outputs": [],
   "source": [
    "import pandas as pd\n",
    "import numpy as np\n",
    "import matplotlib.pyplot as plt\n",
    "\n",
    "from sklearn.ensemble import RandomForestClassifier\n",
    "from sklearn.model_selection import train_test_split\n",
    "from sklearn.model_selection import KFold\n",
    "from sklearn.metrics import accuracy_score"
   ]
  },
  {
   "cell_type": "markdown",
   "metadata": {
    "heading_collapsed": true,
    "id": "naQ-9Qfo5GAp"
   },
   "source": [
    "# Load Data"
   ]
  },
  {
   "cell_type": "code",
   "execution_count": 7,
   "metadata": {
    "ExecuteTime": {
     "end_time": "2023-08-07T00:17:31.695721Z",
     "start_time": "2023-08-07T00:17:31.615712Z"
    },
    "hidden": true,
    "id": "ocMVgeNZ4-vQ"
   },
   "outputs": [],
   "source": [
    "train = pd.read_csv('./data/train.csv') # Train Data\n",
    "test = pd.read_csv('./data/test.csv') # Test Data"
   ]
  },
  {
   "cell_type": "markdown",
   "metadata": {
    "heading_collapsed": true,
    "id": "kWIQUzqM_fP0"
   },
   "source": [
    "# Cleaning the missing data"
   ]
  },
  {
   "cell_type": "markdown",
   "metadata": {
    "hidden": true,
    "id": "Qex7bmBgDKEd"
   },
   "source": [
    "## Train data"
   ]
  },
  {
   "cell_type": "code",
   "execution_count": 8,
   "metadata": {
    "ExecuteTime": {
     "end_time": "2023-08-07T00:17:31.731718Z",
     "start_time": "2023-08-07T00:17:31.708721Z"
    },
    "colab": {
     "base_uri": "https://localhost:8080/"
    },
    "hidden": true,
    "id": "Uba829X2_e7T",
    "outputId": "25a2b7e8-7b19-4bde-a346-b4ff6c40caa0"
   },
   "outputs": [
    {
     "data": {
      "text/plain": [
       "PassengerId      0\n",
       "Survived         0\n",
       "Pclass           0\n",
       "Name             0\n",
       "Sex              0\n",
       "Age            177\n",
       "SibSp            0\n",
       "Parch            0\n",
       "Ticket           0\n",
       "Fare             0\n",
       "Cabin          687\n",
       "Embarked         2\n",
       "dtype: int64"
      ]
     },
     "execution_count": 8,
     "metadata": {},
     "output_type": "execute_result"
    }
   ],
   "source": [
    "# Visualizing the missin data\n",
    "train.isnull().sum()"
   ]
  },
  {
   "cell_type": "code",
   "execution_count": 9,
   "metadata": {
    "ExecuteTime": {
     "end_time": "2023-08-07T00:17:31.765719Z",
     "start_time": "2023-08-07T00:17:31.747720Z"
    },
    "colab": {
     "base_uri": "https://localhost:8080/"
    },
    "hidden": true,
    "id": "u_TveSOpATPt",
    "outputId": "d0649650-141c-45eb-b20f-8613ba86c070"
   },
   "outputs": [
    {
     "data": {
      "text/plain": [
       "0"
      ]
     },
     "execution_count": 9,
     "metadata": {},
     "output_type": "execute_result"
    }
   ],
   "source": [
    "train['Age'] = train['Age'].fillna(-1)\n",
    "\n",
    "train['Age'].isnull().sum()"
   ]
  },
  {
   "cell_type": "markdown",
   "metadata": {
    "hidden": true,
    "id": "0YAJ8KD1DOz1"
   },
   "source": [
    "## Test data"
   ]
  },
  {
   "cell_type": "code",
   "execution_count": 10,
   "metadata": {
    "ExecuteTime": {
     "end_time": "2023-08-07T00:17:31.801725Z",
     "start_time": "2023-08-07T00:17:31.776724Z"
    },
    "colab": {
     "base_uri": "https://localhost:8080/"
    },
    "hidden": true,
    "id": "tbAvvWekDRLP",
    "outputId": "3c834ab4-6cb5-44c8-96fc-087177a56c51"
   },
   "outputs": [
    {
     "data": {
      "text/plain": [
       "PassengerId      0\n",
       "Pclass           0\n",
       "Name             0\n",
       "Sex              0\n",
       "Age             86\n",
       "SibSp            0\n",
       "Parch            0\n",
       "Ticket           0\n",
       "Fare             1\n",
       "Cabin          327\n",
       "Embarked         0\n",
       "dtype: int64"
      ]
     },
     "execution_count": 10,
     "metadata": {},
     "output_type": "execute_result"
    }
   ],
   "source": [
    "# Visualizing the missin data\n",
    "test.isnull().sum()"
   ]
  },
  {
   "cell_type": "code",
   "execution_count": 11,
   "metadata": {
    "ExecuteTime": {
     "end_time": "2023-08-07T00:17:31.828726Z",
     "start_time": "2023-08-07T00:17:31.812723Z"
    },
    "colab": {
     "base_uri": "https://localhost:8080/"
    },
    "hidden": true,
    "id": "Qc3JdtXSDQ77",
    "outputId": "f21eb97a-d257-421d-e59e-e29af85b4c0d"
   },
   "outputs": [
    {
     "data": {
      "text/plain": [
       "0"
      ]
     },
     "execution_count": 11,
     "metadata": {},
     "output_type": "execute_result"
    }
   ],
   "source": [
    "test['Age'] = test['Age'].fillna(-1)\n",
    "test['Age'].isnull().sum()"
   ]
  },
  {
   "cell_type": "markdown",
   "metadata": {
    "heading_collapsed": true,
    "id": "Lc-4MebL5hvF"
   },
   "source": [
    "# Generating the Model"
   ]
  },
  {
   "cell_type": "code",
   "execution_count": 12,
   "metadata": {
    "ExecuteTime": {
     "end_time": "2023-08-07T00:17:31.852724Z",
     "start_time": "2023-08-07T00:17:31.839724Z"
    },
    "hidden": true,
    "id": "0dqjVFyl5iVO"
   },
   "outputs": [],
   "source": [
    "model = RandomForestClassifier(n_estimators=100, n_jobs=-1, random_state=0)"
   ]
  },
  {
   "cell_type": "markdown",
   "metadata": {
    "hidden": true,
    "id": "bQLVEDns8Ogj"
   },
   "source": [
    "## Create Variables\n",
    "- Changing passagers gender for numbers:\n",
    "    - female = 1\n",
    "    - male = 0"
   ]
  },
  {
   "cell_type": "code",
   "execution_count": 13,
   "metadata": {
    "ExecuteTime": {
     "end_time": "2023-08-07T00:17:31.879730Z",
     "start_time": "2023-08-07T00:17:31.864725Z"
    },
    "hidden": true,
    "id": "ltWgQaeb7Z4F"
   },
   "outputs": [],
   "source": [
    "train['sex_binary'] = train['Sex'].map(lambda x: 1 if x == 'female' else 0)\n",
    "\n",
    "variables_train = ['sex_binary', 'Age']"
   ]
  },
  {
   "cell_type": "code",
   "execution_count": 14,
   "metadata": {
    "ExecuteTime": {
     "end_time": "2023-08-07T00:17:31.904732Z",
     "start_time": "2023-08-07T00:17:31.890726Z"
    },
    "colab": {
     "base_uri": "https://localhost:8080/"
    },
    "hidden": true,
    "id": "fh_rWmUB9qNz",
    "outputId": "d9a1e5ad-dac2-417d-c383-8545a665efe7"
   },
   "outputs": [],
   "source": [
    "# Creating the variables for model\n",
    "x = train[variables_train]    # Param for prediction\n",
    "y = train['Survived']   # What we want to predict"
   ]
  },
  {
   "cell_type": "markdown",
   "metadata": {
    "id": "Yj7xfVMkzkx-"
   },
   "source": [
    "# Validation"
   ]
  },
  {
   "cell_type": "markdown",
   "metadata": {
    "id": "iO8CiOWAmeP2"
   },
   "source": [
    "## Split data for training and test\n",
    "- Create the variables for training and valid the data\n",
    "    - Training: x_train, y_train\n",
    "    - Validation: x_valid, y_valid"
   ]
  },
  {
   "cell_type": "code",
   "execution_count": 15,
   "metadata": {
    "ExecuteTime": {
     "end_time": "2023-08-07T00:17:31.941730Z",
     "start_time": "2023-08-07T00:17:31.929729Z"
    },
    "id": "GXpnfECJmZA_"
   },
   "outputs": [],
   "source": [
    "np.random.seed(0)\n",
    "x_train, x_valid, y_train, y_valid = train_test_split(x, y, test_size=0.5)"
   ]
  },
  {
   "cell_type": "code",
   "execution_count": 16,
   "metadata": {
    "ExecuteTime": {
     "end_time": "2023-08-07T00:17:32.218745Z",
     "start_time": "2023-08-07T00:17:31.951729Z"
    },
    "colab": {
     "base_uri": "https://localhost:8080/",
     "height": 75
    },
    "id": "duiOo_zS_SqX",
    "outputId": "88984f2b-3a81-41c2-e0cd-a6dccc821f55"
   },
   "outputs": [
    {
     "data": {
      "text/html": [
       "<style>#sk-container-id-1 {color: black;}#sk-container-id-1 pre{padding: 0;}#sk-container-id-1 div.sk-toggleable {background-color: white;}#sk-container-id-1 label.sk-toggleable__label {cursor: pointer;display: block;width: 100%;margin-bottom: 0;padding: 0.3em;box-sizing: border-box;text-align: center;}#sk-container-id-1 label.sk-toggleable__label-arrow:before {content: \"▸\";float: left;margin-right: 0.25em;color: #696969;}#sk-container-id-1 label.sk-toggleable__label-arrow:hover:before {color: black;}#sk-container-id-1 div.sk-estimator:hover label.sk-toggleable__label-arrow:before {color: black;}#sk-container-id-1 div.sk-toggleable__content {max-height: 0;max-width: 0;overflow: hidden;text-align: left;background-color: #f0f8ff;}#sk-container-id-1 div.sk-toggleable__content pre {margin: 0.2em;color: black;border-radius: 0.25em;background-color: #f0f8ff;}#sk-container-id-1 input.sk-toggleable__control:checked~div.sk-toggleable__content {max-height: 200px;max-width: 100%;overflow: auto;}#sk-container-id-1 input.sk-toggleable__control:checked~label.sk-toggleable__label-arrow:before {content: \"▾\";}#sk-container-id-1 div.sk-estimator input.sk-toggleable__control:checked~label.sk-toggleable__label {background-color: #d4ebff;}#sk-container-id-1 div.sk-label input.sk-toggleable__control:checked~label.sk-toggleable__label {background-color: #d4ebff;}#sk-container-id-1 input.sk-hidden--visually {border: 0;clip: rect(1px 1px 1px 1px);clip: rect(1px, 1px, 1px, 1px);height: 1px;margin: -1px;overflow: hidden;padding: 0;position: absolute;width: 1px;}#sk-container-id-1 div.sk-estimator {font-family: monospace;background-color: #f0f8ff;border: 1px dotted black;border-radius: 0.25em;box-sizing: border-box;margin-bottom: 0.5em;}#sk-container-id-1 div.sk-estimator:hover {background-color: #d4ebff;}#sk-container-id-1 div.sk-parallel-item::after {content: \"\";width: 100%;border-bottom: 1px solid gray;flex-grow: 1;}#sk-container-id-1 div.sk-label:hover label.sk-toggleable__label {background-color: #d4ebff;}#sk-container-id-1 div.sk-serial::before {content: \"\";position: absolute;border-left: 1px solid gray;box-sizing: border-box;top: 0;bottom: 0;left: 50%;z-index: 0;}#sk-container-id-1 div.sk-serial {display: flex;flex-direction: column;align-items: center;background-color: white;padding-right: 0.2em;padding-left: 0.2em;position: relative;}#sk-container-id-1 div.sk-item {position: relative;z-index: 1;}#sk-container-id-1 div.sk-parallel {display: flex;align-items: stretch;justify-content: center;background-color: white;position: relative;}#sk-container-id-1 div.sk-item::before, #sk-container-id-1 div.sk-parallel-item::before {content: \"\";position: absolute;border-left: 1px solid gray;box-sizing: border-box;top: 0;bottom: 0;left: 50%;z-index: -1;}#sk-container-id-1 div.sk-parallel-item {display: flex;flex-direction: column;z-index: 1;position: relative;background-color: white;}#sk-container-id-1 div.sk-parallel-item:first-child::after {align-self: flex-end;width: 50%;}#sk-container-id-1 div.sk-parallel-item:last-child::after {align-self: flex-start;width: 50%;}#sk-container-id-1 div.sk-parallel-item:only-child::after {width: 0;}#sk-container-id-1 div.sk-dashed-wrapped {border: 1px dashed gray;margin: 0 0.4em 0.5em 0.4em;box-sizing: border-box;padding-bottom: 0.4em;background-color: white;}#sk-container-id-1 div.sk-label label {font-family: monospace;font-weight: bold;display: inline-block;line-height: 1.2em;}#sk-container-id-1 div.sk-label-container {text-align: center;}#sk-container-id-1 div.sk-container {/* jupyter's `normalize.less` sets `[hidden] { display: none; }` but bootstrap.min.css set `[hidden] { display: none !important; }` so we also need the `!important` here to be able to override the default hidden behavior on the sphinx rendered scikit-learn.org. See: https://github.com/scikit-learn/scikit-learn/issues/21755 */display: inline-block !important;position: relative;}#sk-container-id-1 div.sk-text-repr-fallback {display: none;}</style><div id=\"sk-container-id-1\" class=\"sk-top-container\"><div class=\"sk-text-repr-fallback\"><pre>RandomForestClassifier(n_jobs=-1, random_state=0)</pre><b>In a Jupyter environment, please rerun this cell to show the HTML representation or trust the notebook. <br />On GitHub, the HTML representation is unable to render, please try loading this page with nbviewer.org.</b></div><div class=\"sk-container\" hidden><div class=\"sk-item\"><div class=\"sk-estimator sk-toggleable\"><input class=\"sk-toggleable__control sk-hidden--visually\" id=\"sk-estimator-id-1\" type=\"checkbox\" checked><label for=\"sk-estimator-id-1\" class=\"sk-toggleable__label sk-toggleable__label-arrow\">RandomForestClassifier</label><div class=\"sk-toggleable__content\"><pre>RandomForestClassifier(n_jobs=-1, random_state=0)</pre></div></div></div></div></div>"
      ],
      "text/plain": [
       "RandomForestClassifier(n_jobs=-1, random_state=0)"
      ]
     },
     "execution_count": 16,
     "metadata": {},
     "output_type": "execute_result"
    }
   ],
   "source": [
    "# Fit model in training data\n",
    "model.fit(x_train, y_train)"
   ]
  },
  {
   "cell_type": "markdown",
   "metadata": {
    "id": "SC000TIaz_od"
   },
   "source": [
    "# Croos Validation"
   ]
  },
  {
   "cell_type": "markdown",
   "metadata": {
    "id": "mrGx-CPD2Z9m"
   },
   "source": [
    "## Creatinfg KFold object"
   ]
  },
  {
   "cell_type": "code",
   "execution_count": 17,
   "metadata": {
    "ExecuteTime": {
     "end_time": "2023-08-07T00:17:37.468010Z",
     "start_time": "2023-08-07T00:17:32.226744Z"
    },
    "colab": {
     "base_uri": "https://localhost:8080/"
    },
    "id": "cF9o8dFW26ev",
    "outputId": "7a1602f8-7bee-49f7-89bc-e9e57d366542",
    "scrolled": true
   },
   "outputs": [
    {
     "name": "stdout",
     "output_type": "stream",
     "text": [
      "Reptition count: 0\n",
      "Train 445 \n",
      "Valid 446\n",
      "Accuracy: 0.7713004484304933 \n",
      "\n",
      "Train 446 \n",
      "Valid 445\n",
      "Accuracy: 0.7797752808988764 \n",
      "\n",
      "Reptition count: 1\n",
      "Train 445 \n",
      "Valid 446\n",
      "Accuracy: 0.7443946188340808 \n",
      "\n",
      "Train 446 \n",
      "Valid 445\n",
      "Accuracy: 0.7955056179775281 \n",
      "\n",
      "Reptition count: 2\n",
      "Train 445 \n",
      "Valid 446\n",
      "Accuracy: 0.7757847533632287 \n",
      "\n",
      "Train 446 \n",
      "Valid 445\n",
      "Accuracy: 0.7887640449438202 \n",
      "\n",
      "Reptition count: 3\n",
      "Train 445 \n",
      "Valid 446\n",
      "Accuracy: 0.7533632286995515 \n",
      "\n",
      "Train 446 \n",
      "Valid 445\n",
      "Accuracy: 0.7573033707865169 \n",
      "\n",
      "Reptition count: 4\n",
      "Train 445 \n",
      "Valid 446\n",
      "Accuracy: 0.7354260089686099 \n",
      "\n",
      "Train 446 \n",
      "Valid 445\n",
      "Accuracy: 0.7415730337078652 \n",
      "\n",
      "Reptition count: 5\n",
      "Train 445 \n",
      "Valid 446\n",
      "Accuracy: 0.7219730941704036 \n",
      "\n",
      "Train 446 \n",
      "Valid 445\n",
      "Accuracy: 0.7056179775280899 \n",
      "\n",
      "Reptition count: 6\n",
      "Train 445 \n",
      "Valid 446\n",
      "Accuracy: 0.7757847533632287 \n",
      "\n",
      "Train 446 \n",
      "Valid 445\n",
      "Accuracy: 0.7303370786516854 \n",
      "\n",
      "Reptition count: 7\n",
      "Train 445 \n",
      "Valid 446\n",
      "Accuracy: 0.7040358744394619 \n",
      "\n",
      "Train 446 \n",
      "Valid 445\n",
      "Accuracy: 0.7348314606741573 \n",
      "\n",
      "Reptition count: 8\n",
      "Train 445 \n",
      "Valid 446\n",
      "Accuracy: 0.7488789237668162 \n",
      "\n",
      "Train 446 \n",
      "Valid 445\n",
      "Accuracy: 0.7887640449438202 \n",
      "\n",
      "Reptition count: 9\n",
      "Train 445 \n",
      "Valid 446\n",
      "Accuracy: 0.7623318385650224 \n",
      "\n",
      "Train 446 \n",
      "Valid 445\n",
      "Accuracy: 0.7842696629213484 \n",
      "\n"
     ]
    }
   ],
   "source": [
    "results = []\n",
    "for rep in range(10):\n",
    "    print(f\"Reptition count: {rep}\")\n",
    "    kf = KFold(2, shuffle=True, random_state=rep)\n",
    "    for lines_train, lines_valid in kf.split(x):\n",
    "        print(\"Train\", lines_train.shape[0], \"\\nValid\", lines_valid.shape[0])\n",
    "\n",
    "        # Split data\n",
    "        x_train, x_valid = x.iloc[lines_train], x.iloc[lines_valid]\n",
    "        y_train, y_valid = y.iloc[lines_train], y.iloc[lines_valid]\n",
    "\n",
    "        # Create model and fit model\n",
    "        model = RandomForestClassifier(n_estimators=100, n_jobs=-1, random_state=0)\n",
    "        model.fit(x_train, y_train)\n",
    "\n",
    "        # Predict model\n",
    "        model_predict = model.predict(x_valid)\n",
    "\n",
    "        # Creating accuracy\n",
    "        acc = np.mean(y_valid == model_predict)\n",
    "        results.append(acc)    # Salving accuracy data\n",
    "\n",
    "        # Visualizing the result\n",
    "        print(f\"Accuracy: {acc} \\n\")"
   ]
  },
  {
   "cell_type": "code",
   "execution_count": 18,
   "metadata": {
    "ExecuteTime": {
     "end_time": "2023-08-07T00:17:37.494010Z",
     "start_time": "2023-08-07T00:17:37.477006Z"
    },
    "colab": {
     "base_uri": "https://localhost:8080/"
    },
    "id": "vDMc7-rv-I_e",
    "outputId": "7edcebc7-0719-4232-a788-230bc956d16f"
   },
   "outputs": [
    {
     "data": {
      "text/plain": [
       "0.7550007557817302"
      ]
     },
     "execution_count": 18,
     "metadata": {},
     "output_type": "execute_result"
    }
   ],
   "source": [
    "np.mean(results)"
   ]
  },
  {
   "cell_type": "code",
   "execution_count": 44,
   "metadata": {
    "ExecuteTime": {
     "end_time": "2023-08-07T00:42:29.544853Z",
     "start_time": "2023-08-07T00:42:29.211837Z"
    }
   },
   "outputs": [
    {
     "data": {
      "text/plain": [
       "(array([2., 1., 1., 2., 3., 2., 1., 3., 2., 3.]),\n",
       " array([0.70403587, 0.71318285, 0.72232982, 0.7314768 , 0.74062377,\n",
       "        0.74977075, 0.75891772, 0.76806469, 0.77721167, 0.78635864,\n",
       "        0.79550562]),\n",
       " <BarContainer object of 10 artists>)"
      ]
     },
     "execution_count": 44,
     "metadata": {},
     "output_type": "execute_result"
    },
    {
     "data": {
      "image/png": "[encoded data removed]",
      "text/plain": [
       "<Figure size 640x480 with 1 Axes>"
      ]
     },
     "metadata": {},
     "output_type": "display_data"
    }
   ],
   "source": [
    "plt.hist(results)"
   ]
  },
  {
   "cell_type": "markdown",
   "metadata": {
    "id": "GE7Rv3-QpZcO"
   },
   "source": [
    "## Predict model"
   ]
  },
  {
   "cell_type": "code",
   "execution_count": 19,
   "metadata": {
    "ExecuteTime": {
     "end_time": "2023-08-07T00:17:37.553014Z",
     "start_time": "2023-08-07T00:17:37.503006Z"
    },
    "id": "wjbVWQA2DFbu"
   },
   "outputs": [],
   "source": [
    "# Predict with function (train_test_split)\n",
    "p = model.predict(x_valid)"
   ]
  },
  {
   "cell_type": "code",
   "execution_count": 20,
   "metadata": {
    "ExecuteTime": {
     "end_time": "2023-08-07T00:17:37.573015Z",
     "start_time": "2023-08-07T00:17:37.564010Z"
    },
    "id": "hMyNM-LqyThD"
   },
   "outputs": [],
   "source": [
    "# Predict With param 'All women survived'\n",
    "women_survived = (x_valid['sex_binary'] == 1).astype(np.int64)"
   ]
  },
  {
   "cell_type": "markdown",
   "metadata": {
    "id": "dJzfdsTFBbUI"
   },
   "source": [
    "# Applying the model in the test"
   ]
  },
  {
   "cell_type": "markdown",
   "metadata": {
    "id": "XBiGFrQZB76b"
   },
   "source": [
    "##  Create Variables\n",
    "- The same Changing in train table"
   ]
  },
  {
   "cell_type": "code",
   "execution_count": 21,
   "metadata": {
    "ExecuteTime": {
     "end_time": "2023-08-07T00:17:37.598017Z",
     "start_time": "2023-08-07T00:17:37.584011Z"
    },
    "id": "32Dz8QPXCEzM"
   },
   "outputs": [],
   "source": [
    "test['sex_binary'] = test['Sex'].map(lambda x: 1 if x == 'female' else 0)\n",
    "\n",
    "variables_test = ['sex_binary', 'Age']"
   ]
  },
  {
   "cell_type": "markdown",
   "metadata": {
    "id": "boIsICc2Cuwt"
   },
   "source": [
    "## Test Model"
   ]
  },
  {
   "cell_type": "code",
   "execution_count": 22,
   "metadata": {
    "ExecuteTime": {
     "end_time": "2023-08-07T00:17:37.647018Z",
     "start_time": "2023-08-07T00:17:37.608013Z"
    },
    "colab": {
     "base_uri": "https://localhost:8080/",
     "height": 206
    },
    "id": "1WTiwp4kBPZv",
    "outputId": "57abff62-6c7f-4d5f-ad12-1bc72e6a9d23",
    "scrolled": true
   },
   "outputs": [
    {
     "data": {
      "text/html": [
       "<div>\n",
       "<style scoped>\n",
       "    .dataframe tbody tr th:only-of-type {\n",
       "        vertical-align: middle;\n",
       "    }\n",
       "\n",
       "    .dataframe tbody tr th {\n",
       "        vertical-align: top;\n",
       "    }\n",
       "\n",
       "    .dataframe thead th {\n",
       "        text-align: right;\n",
       "    }\n",
       "</style>\n",
       "<table border=\"1\" class=\"dataframe\">\n",
       "  <thead>\n",
       "    <tr style=\"text-align: right;\">\n",
       "      <th></th>\n",
       "      <th>sex_binary</th>\n",
       "      <th>Age</th>\n",
       "    </tr>\n",
       "  </thead>\n",
       "  <tbody>\n",
       "    <tr>\n",
       "      <th>0</th>\n",
       "      <td>0</td>\n",
       "      <td>34.5</td>\n",
       "    </tr>\n",
       "    <tr>\n",
       "      <th>1</th>\n",
       "      <td>1</td>\n",
       "      <td>47.0</td>\n",
       "    </tr>\n",
       "    <tr>\n",
       "      <th>2</th>\n",
       "      <td>0</td>\n",
       "      <td>62.0</td>\n",
       "    </tr>\n",
       "    <tr>\n",
       "      <th>3</th>\n",
       "      <td>0</td>\n",
       "      <td>27.0</td>\n",
       "    </tr>\n",
       "    <tr>\n",
       "      <th>4</th>\n",
       "      <td>1</td>\n",
       "      <td>22.0</td>\n",
       "    </tr>\n",
       "  </tbody>\n",
       "</table>\n",
       "</div>"
      ],
      "text/plain": [
       "   sex_binary   Age\n",
       "0           0  34.5\n",
       "1           1  47.0\n",
       "2           0  62.0\n",
       "3           0  27.0\n",
       "4           1  22.0"
      ]
     },
     "execution_count": 22,
     "metadata": {},
     "output_type": "execute_result"
    }
   ],
   "source": [
    "x_prev = test[variables_test]\n",
    "x_prev.head()"
   ]
  },
  {
   "cell_type": "code",
   "execution_count": 26,
   "metadata": {
    "ExecuteTime": {
     "end_time": "2023-08-07T00:24:20.496387Z",
     "start_time": "2023-08-07T00:24:20.421380Z"
    }
   },
   "outputs": [],
   "source": [
    "predict_test = model.predict(x_prev)"
   ]
  },
  {
   "cell_type": "markdown",
   "metadata": {
    "id": "7kPzqVrZprf9"
   },
   "source": [
    "# Saving the result for Kaggle competition"
   ]
  },
  {
   "cell_type": "code",
   "execution_count": 27,
   "metadata": {
    "ExecuteTime": {
     "end_time": "2023-08-07T00:24:25.086346Z",
     "start_time": "2023-08-07T00:24:25.067346Z"
    },
    "id": "wUarJMzbD0m6"
   },
   "outputs": [],
   "source": [
    "submition = pd.Series(predict_test, index=test['PassengerId'], name='Survived')"
   ]
  },
  {
   "cell_type": "code",
   "execution_count": 30,
   "metadata": {
    "ExecuteTime": {
     "end_time": "2023-08-07T00:25:58.016058Z",
     "start_time": "2023-08-07T00:25:57.986056Z"
    },
    "id": "kZr169ypEN5a"
   },
   "outputs": [],
   "source": [
    "submition.to_csv('./predict/RandomForestClassifier.csv', header=True)"
   ]
  },
  {
   "cell_type": "markdown",
   "metadata": {},
   "source": [
    "## Visualizing the accuracy of predict"
   ]
  }
 ],
 "metadata": {
  "colab": {
   "authorship_tag": "ABX9TyNMBEd8tsSQN+x1F9GlOUKy",
   "provenance": []
  },
  "kernelspec": {
   "display_name": "Python 3 (ipykernel)",
   "language": "python",
   "name": "python3"
  },
  "language_info": {
   "codemirror_mode": {
    "name": "ipython",
    "version": 3
   },
   "file_extension": ".py",
   "mimetype": "text/x-python",
   "name": "python",
   "nbconvert_exporter": "python",
   "pygments_lexer": "ipython3",
   "version": "3.10.12"
  },
  "toc": {
   "base_numbering": 1,
   "nav_menu": {},
   "number_sections": true,
   "sideBar": true,
   "skip_h1_title": false,
   "title_cell": "Table of Contents",
   "title_sidebar": "Contents",
   "toc_cell": false,
   "toc_position": {
    "height": "calc(100% - 180px)",
    "left": "10px",
    "top": "150px",
    "width": "483px"
   },
   "toc_section_display": true,
   "toc_window_display": false
  }
 },
 "nbformat": 4,
 "nbformat_minor": 1
}
