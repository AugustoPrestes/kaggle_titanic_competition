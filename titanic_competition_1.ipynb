{
  "nbformat": 4,
  "nbformat_minor": 0,
  "metadata": {
    "colab": {
      "provenance": [],
      "authorship_tag": "ABX9TyNMBEd8tsSQN+x1F9GlOUKy"
    },
    "kernelspec": {
      "name": "python3",
      "display_name": "Python 3"
    },
    "language_info": {
      "name": "python"
    }
  },
  "cells": [
    {
      "cell_type": "markdown",
      "source": [
        "# Competição kaggle Titanic\n",
        "O notebook foi desenvolvido com base na playlist do canal do YouTUbe [Canal Mario Filho](https://www.youtube.com/watch?v=K86voC1gRIk&list=PLwnip85KhroW8Q1JSNbgl06iNPeC0SDkx&index=3)."
      ],
      "metadata": {
        "id": "cIQDrpsgaDcQ"
      }
    },
    {
      "cell_type": "markdown",
      "source": [
        "# Imports"
      ],
      "metadata": {
        "id": "rv7pMdDq1w2K"
      }
    },
    {
      "cell_type": "code",
      "source": [
        "import pandas as pd\n",
        "import numpy as np\n",
        "\n",
        "from sklearn.ensemble import RandomForestClassifier\n",
        "from sklearn.model_selection import train_test_split\n",
        "from sklearn.model_selection import KFold"
      ],
      "metadata": {
        "id": "YaOkEIM42nwI"
      },
      "execution_count": 101,
      "outputs": []
    },
    {
      "cell_type": "markdown",
      "source": [
        "# Load Data"
      ],
      "metadata": {
        "id": "naQ-9Qfo5GAp"
      }
    },
    {
      "cell_type": "code",
      "source": [
        "train = pd.read_csv('../content/train.csv') # Train Data\n",
        "test = pd.read_csv('../content/test.csv') # Test Data"
      ],
      "metadata": {
        "id": "ocMVgeNZ4-vQ"
      },
      "execution_count": null,
      "outputs": []
    },
    {
      "cell_type": "markdown",
      "source": [
        "# Cleaning the missing data"
      ],
      "metadata": {
        "id": "kWIQUzqM_fP0"
      }
    },
    {
      "cell_type": "markdown",
      "source": [
        "## Train data"
      ],
      "metadata": {
        "id": "Qex7bmBgDKEd"
      }
    },
    {
      "cell_type": "code",
      "source": [
        "# Visualizing the missin data\n",
        "train.isnull().sum()"
      ],
      "metadata": {
        "colab": {
          "base_uri": "https://localhost:8080/"
        },
        "id": "Uba829X2_e7T",
        "outputId": "25a2b7e8-7b19-4bde-a346-b4ff6c40caa0"
      },
      "execution_count": null,
      "outputs": [
        {
          "output_type": "execute_result",
          "data": {
            "text/plain": [
              "PassengerId      0\n",
              "Survived         0\n",
              "Pclass           0\n",
              "Name             0\n",
              "Sex              0\n",
              "Age            177\n",
              "SibSp            0\n",
              "Parch            0\n",
              "Ticket           0\n",
              "Fare             0\n",
              "Cabin          687\n",
              "Embarked         2\n",
              "sex_binary       0\n",
              "dtype: int64"
            ]
          },
          "metadata": {},
          "execution_count": 26
        }
      ]
    },
    {
      "cell_type": "code",
      "source": [
        "train['Age'] = train['Age'].fillna(-1)\n",
        "\n",
        "train['Age'].isnull().sum()"
      ],
      "metadata": {
        "colab": {
          "base_uri": "https://localhost:8080/"
        },
        "id": "u_TveSOpATPt",
        "outputId": "d0649650-141c-45eb-b20f-8613ba86c070"
      },
      "execution_count": null,
      "outputs": [
        {
          "output_type": "execute_result",
          "data": {
            "text/plain": [
              "0"
            ]
          },
          "metadata": {},
          "execution_count": 30
        }
      ]
    },
    {
      "cell_type": "markdown",
      "source": [
        "## Test data"
      ],
      "metadata": {
        "id": "0YAJ8KD1DOz1"
      }
    },
    {
      "cell_type": "code",
      "source": [
        "# Visualizing the missin data\n",
        "test.isnull().sum()"
      ],
      "metadata": {
        "colab": {
          "base_uri": "https://localhost:8080/"
        },
        "id": "tbAvvWekDRLP",
        "outputId": "3c834ab4-6cb5-44c8-96fc-087177a56c51"
      },
      "execution_count": null,
      "outputs": [
        {
          "output_type": "execute_result",
          "data": {
            "text/plain": [
              "PassengerId      0\n",
              "Pclass           0\n",
              "Name             0\n",
              "Sex              0\n",
              "Age             86\n",
              "SibSp            0\n",
              "Parch            0\n",
              "Ticket           0\n",
              "Fare             1\n",
              "Cabin          327\n",
              "Embarked         0\n",
              "sex_binary       0\n",
              "dtype: int64"
            ]
          },
          "metadata": {},
          "execution_count": 39
        }
      ]
    },
    {
      "cell_type": "code",
      "source": [
        "test['Age'] = test['Age'].fillna(-1)\n",
        "test['Age'].isnull().sum()"
      ],
      "metadata": {
        "colab": {
          "base_uri": "https://localhost:8080/"
        },
        "id": "Qc3JdtXSDQ77",
        "outputId": "f21eb97a-d257-421d-e59e-e29af85b4c0d"
      },
      "execution_count": null,
      "outputs": [
        {
          "output_type": "execute_result",
          "data": {
            "text/plain": [
              "0"
            ]
          },
          "metadata": {},
          "execution_count": 40
        }
      ]
    },
    {
      "cell_type": "markdown",
      "source": [
        "# Generating the Model"
      ],
      "metadata": {
        "id": "Lc-4MebL5hvF"
      }
    },
    {
      "cell_type": "code",
      "source": [
        "model = RandomForestClassifier(n_estimators=100, n_jobs=-1, random_state=0)"
      ],
      "metadata": {
        "id": "0dqjVFyl5iVO"
      },
      "execution_count": null,
      "outputs": []
    },
    {
      "cell_type": "markdown",
      "source": [
        "## Create Variables\n",
        "- Changing passagers gender for numbers:\n",
        "    - female = 1\n",
        "    - male = 0"
      ],
      "metadata": {
        "id": "bQLVEDns8Ogj"
      }
    },
    {
      "cell_type": "code",
      "source": [
        "train['sex_binary'] = train['Sex'].map(lambda x: 1 if x == 'female' else 0)\n",
        "\n",
        "variables_train = ['sex_binary', 'Age']"
      ],
      "metadata": {
        "id": "ltWgQaeb7Z4F"
      },
      "execution_count": 57,
      "outputs": []
    },
    {
      "cell_type": "code",
      "source": [
        "# Creating the variables for model\n",
        "x = train[variables_train]    # Param for prediction\n",
        "y = train['Survived']   # What we want to predict"
      ],
      "metadata": {
        "id": "fh_rWmUB9qNz",
        "colab": {
          "base_uri": "https://localhost:8080/"
        },
        "outputId": "d9a1e5ad-dac2-417d-c383-8545a665efe7"
      },
      "execution_count": 58,
      "outputs": [
        {
          "output_type": "execute_result",
          "data": {
            "text/plain": [
              "(891, 2)"
            ]
          },
          "metadata": {},
          "execution_count": 58
        }
      ]
    },
    {
      "cell_type": "markdown",
      "source": [
        "# Validation"
      ],
      "metadata": {
        "id": "Yj7xfVMkzkx-"
      }
    },
    {
      "cell_type": "markdown",
      "source": [
        "## Split data for training and test\n",
        "- Create the variables for training and valid the data\n",
        "    - Training: x_train, y_train\n",
        "    - Validation: x_valid, y_valid"
      ],
      "metadata": {
        "id": "iO8CiOWAmeP2"
      }
    },
    {
      "cell_type": "code",
      "source": [
        "np.random.seed(0)\n",
        "x_train, x_valid, y_train, y_valid = train_test_split(x, y, test_size=0.5)"
      ],
      "metadata": {
        "id": "GXpnfECJmZA_"
      },
      "execution_count": 86,
      "outputs": []
    },
    {
      "cell_type": "code",
      "source": [
        "# Fit model in training data\n",
        "model.fit(x_train, y_train)"
      ],
      "metadata": {
        "colab": {
          "base_uri": "https://localhost:8080/",
          "height": 75
        },
        "id": "duiOo_zS_SqX",
        "outputId": "88984f2b-3a81-41c2-e0cd-a6dccc821f55"
      },
      "execution_count": 87,
      "outputs": [
        {
          "output_type": "execute_result",
          "data": {
            "text/plain": [
              "RandomForestClassifier(n_jobs=-1, random_state=0)"
            ],
            "text/html": [
              "<style>#sk-container-id-4 {color: black;background-color: white;}#sk-container-id-4 pre{padding: 0;}#sk-container-id-4 div.sk-toggleable {background-color: white;}#sk-container-id-4 label.sk-toggleable__label {cursor: pointer;display: block;width: 100%;margin-bottom: 0;padding: 0.3em;box-sizing: border-box;text-align: center;}#sk-container-id-4 label.sk-toggleable__label-arrow:before {content: \"▸\";float: left;margin-right: 0.25em;color: #696969;}#sk-container-id-4 label.sk-toggleable__label-arrow:hover:before {color: black;}#sk-container-id-4 div.sk-estimator:hover label.sk-toggleable__label-arrow:before {color: black;}#sk-container-id-4 div.sk-toggleable__content {max-height: 0;max-width: 0;overflow: hidden;text-align: left;background-color: #f0f8ff;}#sk-container-id-4 div.sk-toggleable__content pre {margin: 0.2em;color: black;border-radius: 0.25em;background-color: #f0f8ff;}#sk-container-id-4 input.sk-toggleable__control:checked~div.sk-toggleable__content {max-height: 200px;max-width: 100%;overflow: auto;}#sk-container-id-4 input.sk-toggleable__control:checked~label.sk-toggleable__label-arrow:before {content: \"▾\";}#sk-container-id-4 div.sk-estimator input.sk-toggleable__control:checked~label.sk-toggleable__label {background-color: #d4ebff;}#sk-container-id-4 div.sk-label input.sk-toggleable__control:checked~label.sk-toggleable__label {background-color: #d4ebff;}#sk-container-id-4 input.sk-hidden--visually {border: 0;clip: rect(1px 1px 1px 1px);clip: rect(1px, 1px, 1px, 1px);height: 1px;margin: -1px;overflow: hidden;padding: 0;position: absolute;width: 1px;}#sk-container-id-4 div.sk-estimator {font-family: monospace;background-color: #f0f8ff;border: 1px dotted black;border-radius: 0.25em;box-sizing: border-box;margin-bottom: 0.5em;}#sk-container-id-4 div.sk-estimator:hover {background-color: #d4ebff;}#sk-container-id-4 div.sk-parallel-item::after {content: \"\";width: 100%;border-bottom: 1px solid gray;flex-grow: 1;}#sk-container-id-4 div.sk-label:hover label.sk-toggleable__label {background-color: #d4ebff;}#sk-container-id-4 div.sk-serial::before {content: \"\";position: absolute;border-left: 1px solid gray;box-sizing: border-box;top: 0;bottom: 0;left: 50%;z-index: 0;}#sk-container-id-4 div.sk-serial {display: flex;flex-direction: column;align-items: center;background-color: white;padding-right: 0.2em;padding-left: 0.2em;position: relative;}#sk-container-id-4 div.sk-item {position: relative;z-index: 1;}#sk-container-id-4 div.sk-parallel {display: flex;align-items: stretch;justify-content: center;background-color: white;position: relative;}#sk-container-id-4 div.sk-item::before, #sk-container-id-4 div.sk-parallel-item::before {content: \"\";position: absolute;border-left: 1px solid gray;box-sizing: border-box;top: 0;bottom: 0;left: 50%;z-index: -1;}#sk-container-id-4 div.sk-parallel-item {display: flex;flex-direction: column;z-index: 1;position: relative;background-color: white;}#sk-container-id-4 div.sk-parallel-item:first-child::after {align-self: flex-end;width: 50%;}#sk-container-id-4 div.sk-parallel-item:last-child::after {align-self: flex-start;width: 50%;}#sk-container-id-4 div.sk-parallel-item:only-child::after {width: 0;}#sk-container-id-4 div.sk-dashed-wrapped {border: 1px dashed gray;margin: 0 0.4em 0.5em 0.4em;box-sizing: border-box;padding-bottom: 0.4em;background-color: white;}#sk-container-id-4 div.sk-label label {font-family: monospace;font-weight: bold;display: inline-block;line-height: 1.2em;}#sk-container-id-4 div.sk-label-container {text-align: center;}#sk-container-id-4 div.sk-container {/* jupyter's `normalize.less` sets `[hidden] { display: none; }` but bootstrap.min.css set `[hidden] { display: none !important; }` so we also need the `!important` here to be able to override the default hidden behavior on the sphinx rendered scikit-learn.org. See: https://github.com/scikit-learn/scikit-learn/issues/21755 */display: inline-block !important;position: relative;}#sk-container-id-4 div.sk-text-repr-fallback {display: none;}</style><div id=\"sk-container-id-4\" class=\"sk-top-container\"><div class=\"sk-text-repr-fallback\"><pre>RandomForestClassifier(n_jobs=-1, random_state=0)</pre><b>In a Jupyter environment, please rerun this cell to show the HTML representation or trust the notebook. <br />On GitHub, the HTML representation is unable to render, please try loading this page with nbviewer.org.</b></div><div class=\"sk-container\" hidden><div class=\"sk-item\"><div class=\"sk-estimator sk-toggleable\"><input class=\"sk-toggleable__control sk-hidden--visually\" id=\"sk-estimator-id-4\" type=\"checkbox\" checked><label for=\"sk-estimator-id-4\" class=\"sk-toggleable__label sk-toggleable__label-arrow\">RandomForestClassifier</label><div class=\"sk-toggleable__content\"><pre>RandomForestClassifier(n_jobs=-1, random_state=0)</pre></div></div></div></div></div>"
            ]
          },
          "metadata": {},
          "execution_count": 87
        }
      ]
    },
    {
      "cell_type": "markdown",
      "source": [
        "# Croos Validation"
      ],
      "metadata": {
        "id": "SC000TIaz_od"
      }
    },
    {
      "cell_type": "markdown",
      "source": [
        "## Creatinfg KFold object"
      ],
      "metadata": {
        "id": "mrGx-CPD2Z9m"
      }
    },
    {
      "cell_type": "code",
      "source": [
        "results = []\n",
        "for rep in range(10):\n",
        "    print(f\"Reptition count: {rep}\")\n",
        "    kf = KFold(2, shuffle=True, random_state=rep)\n",
        "    for lines_train, lines_valid in kf.split(x):\n",
        "        print(\"Train\", lines_train.shape[0], \"\\nValid\", lines_valid.shape[0])\n",
        "\n",
        "        # Split data\n",
        "        x_train, x_valid = x.iloc[lines_train], x.iloc[lines_valid]\n",
        "        y_train, y_valid = y.iloc[lines_train], y.iloc[lines_valid]\n",
        "\n",
        "        # Create model and fit model\n",
        "        model = RandomForestClassifier(n_estimators=100, n_jobs=-1, random_state=0)\n",
        "        model.fit(x_train, y_train)\n",
        "\n",
        "        # Predict model\n",
        "        model_predict = model.predict(x_valid)\n",
        "\n",
        "        # Creating accuracy\n",
        "        acc = np.mean(y_valid == model_predict)\n",
        "        results.append(acc)    # Salving accuracy data\n",
        "\n",
        "        # Visualizing the result\n",
        "        print(f\"Accuracy: {acc} \\n\")"
      ],
      "metadata": {
        "colab": {
          "base_uri": "https://localhost:8080/"
        },
        "id": "cF9o8dFW26ev",
        "outputId": "7a1602f8-7bee-49f7-89bc-e9e57d366542"
      },
      "execution_count": 124,
      "outputs": [
        {
          "output_type": "stream",
          "name": "stdout",
          "text": [
            "Reptition count: 0\n",
            "Train 445 \n",
            "Valid 446\n",
            "Accuracy: 0.7713004484304933 \n",
            "\n",
            "Train 446 \n",
            "Valid 445\n",
            "Accuracy: 0.7797752808988764 \n",
            "\n",
            "Reptition count: 1\n",
            "Train 445 \n",
            "Valid 446\n",
            "Accuracy: 0.7443946188340808 \n",
            "\n",
            "Train 446 \n",
            "Valid 445\n",
            "Accuracy: 0.7955056179775281 \n",
            "\n",
            "Reptition count: 2\n",
            "Train 445 \n",
            "Valid 446\n",
            "Accuracy: 0.7757847533632287 \n",
            "\n",
            "Train 446 \n",
            "Valid 445\n",
            "Accuracy: 0.7887640449438202 \n",
            "\n",
            "Reptition count: 3\n",
            "Train 445 \n",
            "Valid 446\n",
            "Accuracy: 0.7533632286995515 \n",
            "\n",
            "Train 446 \n",
            "Valid 445\n",
            "Accuracy: 0.7573033707865169 \n",
            "\n",
            "Reptition count: 4\n",
            "Train 445 \n",
            "Valid 446\n",
            "Accuracy: 0.7354260089686099 \n",
            "\n",
            "Train 446 \n",
            "Valid 445\n",
            "Accuracy: 0.7415730337078652 \n",
            "\n",
            "Reptition count: 5\n",
            "Train 445 \n",
            "Valid 446\n",
            "Accuracy: 0.7219730941704036 \n",
            "\n",
            "Train 446 \n",
            "Valid 445\n",
            "Accuracy: 0.7056179775280899 \n",
            "\n",
            "Reptition count: 6\n",
            "Train 445 \n",
            "Valid 446\n",
            "Accuracy: 0.7757847533632287 \n",
            "\n",
            "Train 446 \n",
            "Valid 445\n",
            "Accuracy: 0.7303370786516854 \n",
            "\n",
            "Reptition count: 7\n",
            "Train 445 \n",
            "Valid 446\n",
            "Accuracy: 0.7040358744394619 \n",
            "\n",
            "Train 446 \n",
            "Valid 445\n",
            "Accuracy: 0.7348314606741573 \n",
            "\n",
            "Reptition count: 8\n",
            "Train 445 \n",
            "Valid 446\n",
            "Accuracy: 0.7488789237668162 \n",
            "\n",
            "Train 446 \n",
            "Valid 445\n",
            "Accuracy: 0.7887640449438202 \n",
            "\n",
            "Reptition count: 9\n",
            "Train 445 \n",
            "Valid 446\n",
            "Accuracy: 0.7623318385650224 \n",
            "\n",
            "Train 446 \n",
            "Valid 445\n",
            "Accuracy: 0.7842696629213484 \n",
            "\n"
          ]
        }
      ]
    },
    {
      "cell_type": "code",
      "source": [
        "np.mean(results)"
      ],
      "metadata": {
        "colab": {
          "base_uri": "https://localhost:8080/"
        },
        "id": "vDMc7-rv-I_e",
        "outputId": "7edcebc7-0719-4232-a788-230bc956d16f"
      },
      "execution_count": 126,
      "outputs": [
        {
          "output_type": "execute_result",
          "data": {
            "text/plain": [
              "0.7550007557817302"
            ]
          },
          "metadata": {},
          "execution_count": 126
        }
      ]
    },
    {
      "cell_type": "markdown",
      "source": [
        "## Predict model"
      ],
      "metadata": {
        "id": "GE7Rv3-QpZcO"
      }
    },
    {
      "cell_type": "code",
      "source": [
        "# Predict with function (train_test_split)\n",
        "p = model.predict(x_valid)"
      ],
      "metadata": {
        "id": "wjbVWQA2DFbu"
      },
      "execution_count": 91,
      "outputs": []
    },
    {
      "cell_type": "code",
      "source": [
        "# Predict With param 'All women survived'\n",
        "women_survived = (x_valid['sex_binary'] == 1).astype(np.int64)"
      ],
      "metadata": {
        "id": "hMyNM-LqyThD"
      },
      "execution_count": 96,
      "outputs": []
    },
    {
      "cell_type": "markdown",
      "source": [
        "# Applying the model in the test"
      ],
      "metadata": {
        "id": "dJzfdsTFBbUI"
      }
    },
    {
      "cell_type": "markdown",
      "source": [
        "##  Create Variables\n",
        "- The same Changing in train table"
      ],
      "metadata": {
        "id": "XBiGFrQZB76b"
      }
    },
    {
      "cell_type": "code",
      "source": [
        "test['sex_binary'] = test['Sex'].map(lambda x: 1 if x == 'female' else 0)\n",
        "\n",
        "variables_test = ['sex_binary', 'Age']"
      ],
      "metadata": {
        "id": "32Dz8QPXCEzM"
      },
      "execution_count": 88,
      "outputs": []
    },
    {
      "cell_type": "markdown",
      "source": [
        "## Test Model"
      ],
      "metadata": {
        "id": "boIsICc2Cuwt"
      }
    },
    {
      "cell_type": "code",
      "source": [
        "x_prev = test[variables_test]\n",
        "x_prev.head()"
      ],
      "metadata": {
        "colab": {
          "base_uri": "https://localhost:8080/",
          "height": 206
        },
        "id": "1WTiwp4kBPZv",
        "outputId": "57abff62-6c7f-4d5f-ad12-1bc72e6a9d23"
      },
      "execution_count": 89,
      "outputs": [
        {
          "output_type": "execute_result",
          "data": {
            "text/plain": [
              "   sex_binary   Age\n",
              "0           0  34.5\n",
              "1           1  47.0\n",
              "2           0  62.0\n",
              "3           0  27.0\n",
              "4           1  22.0"
            ],
            "text/html": [
              "\n",
              "\n",
              "  <div id=\"df-911243e4-2d78-40e4-968a-1dbbb053a3e2\">\n",
              "    <div class=\"colab-df-container\">\n",
              "      <div>\n",
              "<style scoped>\n",
              "    .dataframe tbody tr th:only-of-type {\n",
              "        vertical-align: middle;\n",
              "    }\n",
              "\n",
              "    .dataframe tbody tr th {\n",
              "        vertical-align: top;\n",
              "    }\n",
              "\n",
              "    .dataframe thead th {\n",
              "        text-align: right;\n",
              "    }\n",
              "</style>\n",
              "<table border=\"1\" class=\"dataframe\">\n",
              "  <thead>\n",
              "    <tr style=\"text-align: right;\">\n",
              "      <th></th>\n",
              "      <th>sex_binary</th>\n",
              "      <th>Age</th>\n",
              "    </tr>\n",
              "  </thead>\n",
              "  <tbody>\n",
              "    <tr>\n",
              "      <th>0</th>\n",
              "      <td>0</td>\n",
              "      <td>34.5</td>\n",
              "    </tr>\n",
              "    <tr>\n",
              "      <th>1</th>\n",
              "      <td>1</td>\n",
              "      <td>47.0</td>\n",
              "    </tr>\n",
              "    <tr>\n",
              "      <th>2</th>\n",
              "      <td>0</td>\n",
              "      <td>62.0</td>\n",
              "    </tr>\n",
              "    <tr>\n",
              "      <th>3</th>\n",
              "      <td>0</td>\n",
              "      <td>27.0</td>\n",
              "    </tr>\n",
              "    <tr>\n",
              "      <th>4</th>\n",
              "      <td>1</td>\n",
              "      <td>22.0</td>\n",
              "    </tr>\n",
              "  </tbody>\n",
              "</table>\n",
              "</div>\n",
              "      <button class=\"colab-df-convert\" onclick=\"convertToInteractive('df-911243e4-2d78-40e4-968a-1dbbb053a3e2')\"\n",
              "              title=\"Convert this dataframe to an interactive table.\"\n",
              "              style=\"display:none;\">\n",
              "\n",
              "  <svg xmlns=\"http://www.w3.org/2000/svg\" height=\"24px\"viewBox=\"0 0 24 24\"\n",
              "       width=\"24px\">\n",
              "    <path d=\"M0 0h24v24H0V0z\" fill=\"none\"/>\n",
              "    <path d=\"M18.56 5.44l.94 2.06.94-2.06 2.06-.94-2.06-.94-.94-2.06-.94 2.06-2.06.94zm-11 1L8.5 8.5l.94-2.06 2.06-.94-2.06-.94L8.5 2.5l-.94 2.06-2.06.94zm10 10l.94 2.06.94-2.06 2.06-.94-2.06-.94-.94-2.06-.94 2.06-2.06.94z\"/><path d=\"M17.41 7.96l-1.37-1.37c-.4-.4-.92-.59-1.43-.59-.52 0-1.04.2-1.43.59L10.3 9.45l-7.72 7.72c-.78.78-.78 2.05 0 2.83L4 21.41c.39.39.9.59 1.41.59.51 0 1.02-.2 1.41-.59l7.78-7.78 2.81-2.81c.8-.78.8-2.07 0-2.86zM5.41 20L4 18.59l7.72-7.72 1.47 1.35L5.41 20z\"/>\n",
              "  </svg>\n",
              "      </button>\n",
              "\n",
              "\n",
              "\n",
              "    <div id=\"df-2b68033a-16ae-473f-a991-24015a37171d\">\n",
              "      <button class=\"colab-df-quickchart\" onclick=\"quickchart('df-2b68033a-16ae-473f-a991-24015a37171d')\"\n",
              "              title=\"Suggest charts.\"\n",
              "              style=\"display:none;\">\n",
              "\n",
              "<svg xmlns=\"http://www.w3.org/2000/svg\" height=\"24px\"viewBox=\"0 0 24 24\"\n",
              "     width=\"24px\">\n",
              "    <g>\n",
              "        <path d=\"M19 3H5c-1.1 0-2 .9-2 2v14c0 1.1.9 2 2 2h14c1.1 0 2-.9 2-2V5c0-1.1-.9-2-2-2zM9 17H7v-7h2v7zm4 0h-2V7h2v10zm4 0h-2v-4h2v4z\"/>\n",
              "    </g>\n",
              "</svg>\n",
              "      </button>\n",
              "    </div>\n",
              "\n",
              "<style>\n",
              "  .colab-df-quickchart {\n",
              "    background-color: #E8F0FE;\n",
              "    border: none;\n",
              "    border-radius: 50%;\n",
              "    cursor: pointer;\n",
              "    display: none;\n",
              "    fill: #1967D2;\n",
              "    height: 32px;\n",
              "    padding: 0 0 0 0;\n",
              "    width: 32px;\n",
              "  }\n",
              "\n",
              "  .colab-df-quickchart:hover {\n",
              "    background-color: #E2EBFA;\n",
              "    box-shadow: 0px 1px 2px rgba(60, 64, 67, 0.3), 0px 1px 3px 1px rgba(60, 64, 67, 0.15);\n",
              "    fill: #174EA6;\n",
              "  }\n",
              "\n",
              "  [theme=dark] .colab-df-quickchart {\n",
              "    background-color: #3B4455;\n",
              "    fill: #D2E3FC;\n",
              "  }\n",
              "\n",
              "  [theme=dark] .colab-df-quickchart:hover {\n",
              "    background-color: #434B5C;\n",
              "    box-shadow: 0px 1px 3px 1px rgba(0, 0, 0, 0.15);\n",
              "    filter: drop-shadow(0px 1px 2px rgba(0, 0, 0, 0.3));\n",
              "    fill: #FFFFFF;\n",
              "  }\n",
              "</style>\n",
              "\n",
              "    <script>\n",
              "      async function quickchart(key) {\n",
              "        const containerElement = document.querySelector('#' + key);\n",
              "        const charts = await google.colab.kernel.invokeFunction(\n",
              "            'suggestCharts', [key], {});\n",
              "      }\n",
              "    </script>\n",
              "\n",
              "      <script>\n",
              "\n",
              "function displayQuickchartButton(domScope) {\n",
              "  let quickchartButtonEl =\n",
              "    domScope.querySelector('#df-2b68033a-16ae-473f-a991-24015a37171d button.colab-df-quickchart');\n",
              "  quickchartButtonEl.style.display =\n",
              "    google.colab.kernel.accessAllowed ? 'block' : 'none';\n",
              "}\n",
              "\n",
              "        displayQuickchartButton(document);\n",
              "      </script>\n",
              "      <style>\n",
              "    .colab-df-container {\n",
              "      display:flex;\n",
              "      flex-wrap:wrap;\n",
              "      gap: 12px;\n",
              "    }\n",
              "\n",
              "    .colab-df-convert {\n",
              "      background-color: #E8F0FE;\n",
              "      border: none;\n",
              "      border-radius: 50%;\n",
              "      cursor: pointer;\n",
              "      display: none;\n",
              "      fill: #1967D2;\n",
              "      height: 32px;\n",
              "      padding: 0 0 0 0;\n",
              "      width: 32px;\n",
              "    }\n",
              "\n",
              "    .colab-df-convert:hover {\n",
              "      background-color: #E2EBFA;\n",
              "      box-shadow: 0px 1px 2px rgba(60, 64, 67, 0.3), 0px 1px 3px 1px rgba(60, 64, 67, 0.15);\n",
              "      fill: #174EA6;\n",
              "    }\n",
              "\n",
              "    [theme=dark] .colab-df-convert {\n",
              "      background-color: #3B4455;\n",
              "      fill: #D2E3FC;\n",
              "    }\n",
              "\n",
              "    [theme=dark] .colab-df-convert:hover {\n",
              "      background-color: #434B5C;\n",
              "      box-shadow: 0px 1px 3px 1px rgba(0, 0, 0, 0.15);\n",
              "      filter: drop-shadow(0px 1px 2px rgba(0, 0, 0, 0.3));\n",
              "      fill: #FFFFFF;\n",
              "    }\n",
              "  </style>\n",
              "\n",
              "      <script>\n",
              "        const buttonEl =\n",
              "          document.querySelector('#df-911243e4-2d78-40e4-968a-1dbbb053a3e2 button.colab-df-convert');\n",
              "        buttonEl.style.display =\n",
              "          google.colab.kernel.accessAllowed ? 'block' : 'none';\n",
              "\n",
              "        async function convertToInteractive(key) {\n",
              "          const element = document.querySelector('#df-911243e4-2d78-40e4-968a-1dbbb053a3e2');\n",
              "          const dataTable =\n",
              "            await google.colab.kernel.invokeFunction('convertToInteractive',\n",
              "                                                     [key], {});\n",
              "          if (!dataTable) return;\n",
              "\n",
              "          const docLinkHtml = 'Like what you see? Visit the ' +\n",
              "            '<a target=\"_blank\" href=https://colab.research.google.com/notebooks/data_table.ipynb>data table notebook</a>'\n",
              "            + ' to learn more about interactive tables.';\n",
              "          element.innerHTML = '';\n",
              "          dataTable['output_type'] = 'display_data';\n",
              "          await google.colab.output.renderOutput(dataTable, element);\n",
              "          const docLink = document.createElement('div');\n",
              "          docLink.innerHTML = docLinkHtml;\n",
              "          element.appendChild(docLink);\n",
              "        }\n",
              "      </script>\n",
              "    </div>\n",
              "  </div>\n"
            ]
          },
          "metadata": {},
          "execution_count": 89
        }
      ]
    },
    {
      "cell_type": "markdown",
      "source": [
        "# Saving the result for Kaggle competition"
      ],
      "metadata": {
        "id": "7kPzqVrZprf9"
      }
    },
    {
      "cell_type": "code",
      "source": [
        "submition = pd.Series(p, index=test['PassengerId'], name='Survived')"
      ],
      "metadata": {
        "id": "wUarJMzbD0m6"
      },
      "execution_count": null,
      "outputs": []
    },
    {
      "cell_type": "code",
      "source": [
        "submition.to_csv('first_model', header=True)"
      ],
      "metadata": {
        "id": "kZr169ypEN5a"
      },
      "execution_count": null,
      "outputs": []
    },
    {
      "cell_type": "code",
      "source": [
        "!head -n10 ../content/first_model"
      ],
      "metadata": {
        "colab": {
          "base_uri": "https://localhost:8080/"
        },
        "id": "WwYgRavsEi5N",
        "outputId": "ced9ad4d-7e31-47f0-e279-0820e3da851a"
      },
      "execution_count": null,
      "outputs": [
        {
          "output_type": "stream",
          "name": "stdout",
          "text": [
            "PassengerId,Survived\n",
            "892,0\n",
            "893,1\n",
            "894,0\n",
            "895,1\n",
            "896,1\n",
            "897,0\n",
            "898,1\n",
            "899,0\n",
            "900,1\n"
          ]
        }
      ]
    }
  ]
}